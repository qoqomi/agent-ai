{
 "cells": [
  {
   "cell_type": "markdown",
   "id": "82d01d48",
   "metadata": {},
   "source": [
    "## 주제 \n",
    "- 위성 소형화, 저궤도 위성, 광학위성"
   ]
  },
  {
   "cell_type": "code",
   "execution_count": 27,
   "id": "18f5714d",
   "metadata": {},
   "outputs": [
    {
     "data": {
      "text/plain": [
       "'\\n담당자별 에이전트:\\n- 현준: startup_search_agent (스타트업 탐색)\\n- 승연: tech_summary_agent (기술 요약)\\n- 민주: market_eval_agent (시장성 평가)\\n- 경남: investor_insight_agent (투자자 인사이트)\\n\\n+ investment_decision_agent (투자 판단)\\n'"
      ]
     },
     "execution_count": 27,
     "metadata": {},
     "output_type": "execute_result"
    }
   ],
   "source": [
    "\"\"\"\n",
    "담당자별 에이전트:\n",
    "- 현준: startup_search_agent (스타트업 탐색)\n",
    "- 승연: tech_summary_agent (기술 요약)\n",
    "- 민주: market_eval_agent (시장성 평가)\n",
    "- 경남: investor_insight_agent (투자자 인사이트)\n",
    "\n",
    "+ investment_decision_agent (투자 판단)\n",
    "\"\"\""
   ]
  },
  {
   "cell_type": "code",
   "execution_count": 28,
   "id": "7bd4656d",
   "metadata": {},
   "outputs": [
    {
     "data": {
      "text/plain": [
       "True"
      ]
     },
     "execution_count": 28,
     "metadata": {},
     "output_type": "execute_result"
    }
   ],
   "source": [
    "# API KEY Loading\n",
    "from dotenv import load_dotenv\n",
    "\n",
    "load_dotenv()"
   ]
  },
  {
   "cell_type": "code",
   "execution_count": 29,
   "id": "b568fe99",
   "metadata": {},
   "outputs": [],
   "source": [
    "from typing import Annotated, TypedDict, Sequence, Literal\n",
    "from pydantic import BaseModel\n",
    "\n",
    "from langchain_openai import ChatOpenAI\n",
    "from langchain_core.messages import HumanMessage, BaseMessage\n",
    "from langchain_core.prompts import ChatPromptTemplate, MessagesPlaceholder\n",
    "from langchain_community.tools.tavily_search import TavilySearchResults\n",
    "from langchain.agents import create_react_agent\n",
    "\n",
    "from langchain.tools import tool\n",
    "from langgraph.graph import StateGraph, START, END\n",
    "from langgraph.prebuilt import create_react_agent\n",
    "\n",
    "from langchain_community.document_loaders import PyPDFLoader\n",
    "from langchain_openai import OpenAIEmbeddings, ChatOpenAI\n",
    "from langchain_community.vectorstores import FAISS\n",
    "from langchain.text_splitter import RecursiveCharacterTextSplitter\n",
    "from langchain.chains import RetrievalQA"
   ]
  },
  {
   "cell_type": "code",
   "execution_count": 30,
   "id": "2cde67ed",
   "metadata": {},
   "outputs": [],
   "source": [
    "class AgentState(TypedDict):\n",
    "    startup_name: str\n",
    "    startup_info: dict\n",
    "    tech_summary: str\n",
    "    market_analysis: str\n",
    "    investment_decision: str\n",
    "    report: str\n",
    "    iteration_count: int"
   ]
  },
  {
   "cell_type": "markdown",
   "id": "7d22d625",
   "metadata": {
    "vscode": {
     "languageId": "ini"
    }
   },
   "source": [
    "\n",
    "## 스타트업 탐색 에이전트 (현준)\n",
    "1. 웹서치로 스타트업 기본 정보 수집\n"
   ]
  },
  {
   "cell_type": "code",
   "execution_count": null,
   "id": "93d8a942",
   "metadata": {},
   "outputs": [],
   "source": [
    "def startup_search_agent(state: AgentState) -> AgentState:\n",
    "    # TODO: web_search 또는 web_fetch로 스타트업 정보 수집\n",
    "\n",
    "    return state"
   ]
  },
  {
   "cell_type": "markdown",
   "id": "83c6e19c",
   "metadata": {},
   "source": [
    "## 기술 요약 에이전트 (승연)"
   ]
  },
  {
   "cell_type": "code",
   "execution_count": null,
   "id": "7fbc756f",
   "metadata": {},
   "outputs": [],
   "source": [
    "def tech_summary_agent(state: AgentState) -> AgentState:\n",
    "    \"\"\"\n",
    "    스타트업의 기술력 핵심 요약\n",
    "    - RAG: 홈페이지, 논문에서 핵심 기술 추출\n",
    "    \"\"\"\n",
    "    return state"
   ]
  },
  {
   "cell_type": "markdown",
   "id": "3a8509d6",
   "metadata": {},
   "source": [
    "## 시장성 평가 에이전트 (민주)"
   ]
  },
  {
   "cell_type": "code",
   "execution_count": 33,
   "id": "f2d999b1",
   "metadata": {},
   "outputs": [],
   "source": [
    "def market_eval_agent(state: AgentState) -> AgentState:\n",
    "    \"\"\"\n",
    "    시장 성장성, 수요 분석\n",
    "    - RAG: 시장 리포트, 산업뉴스 검색\n",
    "    \"\"\"\n",
    "    return state"
   ]
  },
  {
   "cell_type": "markdown",
   "id": "a4e37267",
   "metadata": {},
   "source": [
    "## 유명 투자자 지식 기반 가치 요약 에이전트"
   ]
  },
  {
   "cell_type": "code",
   "execution_count": null,
   "id": "e419c288",
   "metadata": {},
   "outputs": [],
   "source": [
    "def investment_decision_agent(state: AgentState) -> AgentState:\n",
    "    \"\"\"\n",
    "    유명 투자자 지식 기반 가치 요약 에이전트\n",
    "    - Scorecard Method 적용\n",
    "    \"\"\"\n",
    "\n",
    "    return state"
   ]
  },
  {
   "cell_type": "markdown",
   "id": "b2bfdc75",
   "metadata": {},
   "source": [
    "## 투자 판단 에이전트"
   ]
  },
  {
   "cell_type": "code",
   "execution_count": null,
   "id": "e6d1b6f9",
   "metadata": {},
   "outputs": [],
   "source": [
    "def investment_decision_agent(state: AgentState) -> AgentState:\n",
    "    \"\"\"\n",
    "    종합 판단 (리스크, ROI 등)\n",
    "    - Scorecard Method 적용\n",
    "    \"\"\"\n",
    "    print(\"=== [경남] 투자 판단 에이전트 실행 ===\")\n",
    "\n",
    "    company_name = state[\"startup_name\"]\n",
    "    tech_summary = state[\"tech_summary\"]\n",
    "    market_analysis = state[\"market_analysis\"]\n",
    "\n",
    "    llm = ChatOpenAI(model=\"gpt-4o-mini\", temperature=0)\n",
    "\n",
    "    evaluation_prompt = f\"\"\"\n",
    "    다음 정보를 바탕으로 Scorecard Method로 투자를 평가하세요:\n",
    "    \n",
    "    회사: {company_name}\n",
    "    \n",
    "    기술 분석:\n",
    "    {tech_summary}\n",
    "    \n",
    "    시장 분석:\n",
    "    {market_analysis}\n",
    "    \n",
    "    평가 기준:\n",
    "    - 제품/기술: 15-20%\n",
    "    - 시장 기회: 20-25%\n",
    "    \n",
    "    각 항목을 50-150% 척도로 평가하고, \n",
    "    \"invest\" 또는 \"hold\" 중 하나를 결정하세요.\n",
    "    \n",
    "    형식:\n",
    "    기술 점수: X%\n",
    "    시장 점수: Y%\n",
    "    결론: invest/hold\n",
    "    \"\"\"\n",
    "\n",
    "    result = llm.invoke(evaluation_prompt)\n",
    "    evaluation_text = result.content\n",
    "\n",
    "    print(f\"평가 결과:\\n{evaluation_text}\")\n",
    "\n",
    "    if \"invest\" in evaluation_text.lower() and \"hold\" not in evaluation_text.lower():\n",
    "        state[\"investment_decision\"] = \"invest\"\n",
    "    else:\n",
    "        state[\"investment_decision\"] = \"hold\"\n",
    "\n",
    "    state[\"iteration_count\"] = state.get(\"iteration_count\", 0) + 1\n",
    "\n",
    "    print(f\"투자 판단: {state['investment_decision']}\")\n",
    "    return state\n",
    "\n",
    "\n",
    "def should_continue(state: AgentState) -> str:\n",
    "    \"\"\"조건 분기: 투자 추천이면 report_writer, 보류면 startup_search\"\"\"\n",
    "    if state[\"investment_decision\"] == \"invest\":\n",
    "        return \"report_writer\"\n",
    "    elif state[\"iteration_count\"] >= 3:\n",
    "        return \"report_writer\"\n",
    "    return \"startup_search\""
   ]
  },
  {
   "cell_type": "markdown",
   "id": "5e8548be",
   "metadata": {},
   "source": [
    "## 보고서 생성 에이전트"
   ]
  },
  {
   "cell_type": "code",
   "execution_count": 37,
   "id": "f560b93d",
   "metadata": {},
   "outputs": [],
   "source": [
    "def report_writer_agent(state: AgentState) -> AgentState:\n",
    "    \"\"\"\n",
    "    결과 요약 보고서 생성\n",
    "    \"\"\"\n",
    "    print(\"=== 보고서 생성 에이전트 실행 ===\")\n",
    "\n",
    "    company_name = state[\"startup_name\"]\n",
    "    company_info = state[\"startup_info\"]\n",
    "    tech_summary = state[\"tech_summary\"]\n",
    "    market_analysis = state[\"market_analysis\"]\n",
    "    investment_decision = state[\"investment_decision\"]\n",
    "\n",
    "    llm = ChatOpenAI(model=\"gpt-4o-mini\", temperature=0)\n",
    "\n",
    "    report_prompt = f\"\"\"\n",
    "    당신은 전문 벤처 투자 분석가입니다.\n",
    "    아래 분석 결과를 바탕으로 다음 형식에 맞춰 투자 평가 보고서를 작성하세요.\n",
    "    \n",
    "    === 분석 정보 ===\n",
    "    \n",
    "    회사명: {company_name}\n",
    "    회사 정보: {company_info}\n",
    "    \n",
    "    기술력 분석:\n",
    "    {tech_summary}\n",
    "    \n",
    "    시장성 분석:\n",
    "    {market_analysis}\n",
    "    \n",
    "    \n",
    "    투자 판단: {investment_decision}\n",
    "    \n",
    "    === 보고서 형식 ===\n",
    "    \n",
    "    # 위성 스타트업 투자 평가 보고서\n",
    "    \n",
    "    ## Executive Summary\n",
    "    \n",
    "    ## 1. 회사 개요\n",
    "    \n",
    "    ## 2. 기술력 평가\n",
    "    ### 2.1 핵심 기술\n",
    "    ### 2.2 기술적 강점\n",
    "    ### 2.3 기술 리스크\n",
    "    ### 2.4 Scorecard 평가\n",
    "    \n",
    "    ## 3. 시장성 분석\n",
    "    ### 3.1 시장 규모 및 성장률\n",
    "    ### 3.2 시장 기회\n",
    "    ### 3.3 Scorecard 평가\n",
    "    \n",
    "    ## 4. 경쟁 환경\n",
    "    \n",
    "    ## 5. 투자 의견\n",
    "    ### 5.1 최종 판단\n",
    "    ### 5.2 투자 근거\n",
    "    ### 5.3 주요 리스크\n",
    "    \n",
    "    ## 6. 결론\n",
    "    \"\"\"\n",
    "\n",
    "    result = llm.invoke(report_prompt)\n",
    "    state[\"report\"] = result.content\n",
    "\n",
    "    print(\"보고서 생성 완료\")\n",
    "    return state"
   ]
  },
  {
   "cell_type": "markdown",
   "id": "9319487d",
   "metadata": {},
   "source": [
    "## LangGraph 구성"
   ]
  },
  {
   "cell_type": "code",
   "execution_count": null,
   "id": "76102ebf",
   "metadata": {},
   "outputs": [],
   "source": [
    "def create_workflow():\n",
    "    graph = StateGraph(AgentState)\n",
    "\n",
    "    # 노드 추가\n",
    "    graph.add_node(\"startup_search\", startup_search_agent)  # 현준\n",
    "    graph.add_node(\"tech_summary\", tech_summary_agent)  # 승연\n",
    "    graph.add_node(\"market_eval\", market_eval_agent)  # 민주\n",
    "    graph.add_node(\"investor_insight\", investor_insight_agent)  # 경남\n",
    "    graph.add_node(\"investment_decision\", investment_decision_agent)  # 경남\n",
    "    graph.add_node(\"report_writer\", report_writer_agent)\n",
    "\n",
    "    # 시작점\n",
    "    graph.set_entry_point(\"startup_search\")\n",
    "\n",
    "    # Edge 연결\n",
    "    graph.add_edge(\"startup_search\", \"tech_summary\")\n",
    "    graph.add_edge(\"tech_summary\", \"market_eval\")\n",
    "    graph.add_edge(\"market_eval\", \"investor_insight\")\n",
    "    graph.add_edge(\"investor_insight\", \"investment_decision\")\n",
    "\n",
    "    # 조건부 Edge (Reflection)\n",
    "    graph.add_conditional_edges(\n",
    "        \"investment_decision\",\n",
    "        should_continue,\n",
    "        {\"report_writer\": \"report_writer\", \"startup_search\": \"startup_search\"},\n",
    "    )\n",
    "\n",
    "    # 종료점\n",
    "    graph.set_finish_point(\"report_writer\")\n",
    "\n",
    "    return graph.compile()"
   ]
  }
 ],
 "metadata": {
  "kernelspec": {
   "display_name": "myenv",
   "language": "python",
   "name": "python3"
  },
  "language_info": {
   "codemirror_mode": {
    "name": "ipython",
    "version": 3
   },
   "file_extension": ".py",
   "mimetype": "text/x-python",
   "name": "python",
   "nbconvert_exporter": "python",
   "pygments_lexer": "ipython3",
   "version": "3.11.13"
  }
 },
 "nbformat": 4,
 "nbformat_minor": 5
}
